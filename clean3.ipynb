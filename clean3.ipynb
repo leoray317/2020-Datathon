{
 "metadata": {
  "language_info": {
   "codemirror_mode": {
    "name": "ipython",
    "version": 3
   },
   "file_extension": ".py",
   "mimetype": "text/x-python",
   "name": "python",
   "nbconvert_exporter": "python",
   "pygments_lexer": "ipython3",
   "version": "3.7.9-final"
  },
  "orig_nbformat": 2,
  "kernelspec": {
   "name": "python_defaultSpec_1599879316607",
   "display_name": "Python 3.7.9 64-bit ('datathon': conda)"
  }
 },
 "nbformat": 4,
 "nbformat_minor": 2,
 "cells": [
  {
   "cell_type": "code",
   "execution_count": null,
   "metadata": {},
   "outputs": [],
   "source": [
    "import pandas as pd\n",
    "import matplotlib.pyplot as plt"
   ]
  },
  {
   "cell_type": "code",
   "execution_count": null,
   "metadata": {},
   "outputs": [],
   "source": [
    "df1 = pd.read_csv(\"./2020_01-06.csv\",sep=\",\",encoding=\"big5\")"
   ]
  },
  {
   "cell_type": "code",
   "execution_count": null,
   "metadata": {},
   "outputs": [],
   "source": [
    "df1 = df1[[\"縣市\",\"鄉鎮市區\",\"月份\",\"觀測日期\",\"平均溫度\",\"日雨量\"]]"
   ]
  },
  {
   "cell_type": "code",
   "execution_count": null,
   "metadata": {},
   "outputs": [],
   "source": [
    "df2 = df1[(df1[\"縣市\"]==\"臺北市\")]"
   ]
  },
  {
   "cell_type": "code",
   "execution_count": null,
   "metadata": {},
   "outputs": [],
   "source": [
    "\n",
    "df2 = df2[df2[\"平均溫度\"] >= -10]\n",
    "df2"
   ]
  },
  {
   "cell_type": "code",
   "execution_count": null,
   "metadata": {},
   "outputs": [],
   "source": [
    "df3 = df1.groupby([\"縣市\",\"月份\",\"觀測日期\"])[\"日雨量\"].max()"
   ]
  },
  {
   "cell_type": "code",
   "execution_count": null,
   "metadata": {},
   "outputs": [],
   "source": [
    "df4 = pd.DataFrame(columns=['縣市', '月份','觀測日期', '日雨量'])"
   ]
  },
  {
   "cell_type": "code",
   "execution_count": null,
   "metadata": {
    "tags": []
   },
   "outputs": [],
   "source": [
    "for i in range(len(df3)):\n",
    "    df4.loc[i,\"縣市\"] = df3.index[i][0]\n",
    "    df4.loc[i,\"月份\"] = df3.index[i][1]\n",
    "    df4.loc[i,\"觀測日期\"] = df3.index[i][2]\n",
    "    df4.loc[i,\"日雨量\"] = df3.values[i]"
   ]
  },
  {
   "cell_type": "code",
   "execution_count": null,
   "metadata": {},
   "outputs": [],
   "source": [
    "df4 = df4.astype({\"月份\":\"int32\"})\n",
    "df4"
   ]
  },
  {
   "cell_type": "code",
   "execution_count": null,
   "metadata": {},
   "outputs": [],
   "source": [
    "df5 = df1.groupby([\"縣市\",\"月份\",\"觀測日期\"])[\"平均溫度\"].max()"
   ]
  },
  {
   "cell_type": "code",
   "execution_count": null,
   "metadata": {},
   "outputs": [],
   "source": [
    "df6 = pd.DataFrame(columns=['縣市',\"月份\", '觀測日期', '平均溫度'])"
   ]
  },
  {
   "cell_type": "code",
   "execution_count": null,
   "metadata": {},
   "outputs": [],
   "source": [
    "for i in range(len(df5)):\n",
    "    df6.loc[i,\"縣市\"] = df5.index[i][0]\n",
    "    df6.loc[i,\"月份\"] = df5.index[i][1]\n",
    "    df6.loc[i,\"觀測日期\"] = df5.index[i][2]\n",
    "    df6.loc[i,\"平均溫度\"] = df5.values[i]"
   ]
  },
  {
   "cell_type": "code",
   "execution_count": null,
   "metadata": {},
   "outputs": [],
   "source": [
    "df4 = df4.astype({\"月份\":\"int32\"})\n",
    "df6"
   ]
  },
  {
   "cell_type": "code",
   "execution_count": null,
   "metadata": {},
   "outputs": [],
   "source": [
    "df7 =pd.merge(df4,df6)"
   ]
  },
  {
   "cell_type": "code",
   "execution_count": null,
   "metadata": {},
   "outputs": [],
   "source": [
    "df7 = df7[df7[\"縣市\"] != \"臺北市\"]"
   ]
  },
  {
   "cell_type": "code",
   "execution_count": null,
   "metadata": {},
   "outputs": [],
   "source": [
    "df8 = pd.concat([df2,df7], join='outer',ignore_index=True)\n",
    "df8"
   ]
  },
  {
   "cell_type": "code",
   "execution_count": null,
   "metadata": {},
   "outputs": [],
   "source": [
    "for i in df8.index:\n",
    "    if df8[\"平均溫度\"][i] >=30:\n",
    "        df8.loc[i,\"over30C\"] = 1\n",
    "    else:\n",
    "        df8.loc[i,\"over30C\"] = 0\n",
    "\n"
   ]
  },
  {
   "cell_type": "code",
   "execution_count": null,
   "metadata": {},
   "outputs": [],
   "source": [
    "for i in df8.index:\n",
    "    if df8[\"日雨量\"][i] > 0:\n",
    "        df8.loc[i,\"rain\"] = 1\n",
    "    else:\n",
    "        df8.loc[i,\"rain\"] = 0"
   ]
  },
  {
   "cell_type": "code",
   "execution_count": null,
   "metadata": {},
   "outputs": [],
   "source": [
    "for i in df8.index:\n",
    "    df8.loc[i,\"garbage\"] = 0"
   ]
  },
  {
   "cell_type": "code",
   "execution_count": null,
   "metadata": {},
   "outputs": [],
   "source": [
    "df9 =df8[df8['縣市'] != '臺北市']"
   ]
  },
  {
   "cell_type": "code",
   "execution_count": null,
   "metadata": {
    "tags": []
   },
   "outputs": [],
   "source": [
    "df8_grouped = df8.groupby([\"鄉鎮市區\",\"月份\"]).sum()\n",
    "# plt.plot(df8_grouped['over30C']['臺北市']['中山區'])\n",
    "df8_grouped"
   ]
  },
  {
   "cell_type": "code",
   "execution_count": null,
   "metadata": {},
   "outputs": [],
   "source": [
    "gdf1 = pd.read_excel(\"./g_tp.xlsx\",index_col=\"月份\")#,sep=\",\")#,encoding=\"big5\")"
   ]
  },
  {
   "cell_type": "code",
   "execution_count": null,
   "metadata": {
    "tags": []
   },
   "outputs": [],
   "source": [
    "\n",
    "from sklearn import preprocessing\n",
    "min_max_scaler = preprocessing.MinMaxScaler(feature_range=(0,40))\n",
    "gdf1_minmax = min_max_scaler.fit_transform(gdf1)\n",
    "gdf2 = pd.DataFrame(gdf1_minmax,columns = gdf1.columns,index = gdf1.index )"
   ]
  },
  {
   "cell_type": "code",
   "execution_count": null,
   "metadata": {
    "tags": []
   },
   "outputs": [],
   "source": [
    "for i in gdf2.columns:\n",
    "    for j in gdf2.index:\n",
    "        df8_grouped['garbage'][i][j] = gdf2.loc[j,i]\n"
   ]
  },
  {
   "cell_type": "code",
   "execution_count": null,
   "metadata": {},
   "outputs": [],
   "source": [
    "df8_grouped.to_csv(\"./weather_garbage.csv\",encoding=\"utf-8-sig\")"
   ]
  },
  {
   "cell_type": "code",
   "execution_count": null,
   "metadata": {
    "tags": []
   },
   "outputs": [],
   "source": [
    "# df8_grouped['garbage'][\"中山區\"]\n",
    "for i in df8_grouped.index:\n",
    "    print(i[0])"
   ]
  },
  {
   "cell_type": "code",
   "execution_count": null,
   "metadata": {
    "tags": []
   },
   "outputs": [],
   "source": [
    "a = 1\n",
    "for i in gdf2.columns:\n",
    "    fig = plt.figure(figsize=(10,5))\n",
    "    l1 = plt.plot(df8_grouped['over30C'][i])\n",
    "    l2 = plt.plot(df8_grouped['rain'][i])\n",
    "    l3 = plt.plot(df8_grouped['garbage'][i])\n",
    "    plt.title(f\"Zone {a}\")\n",
    "    plt.legend([l1,l2,l3],[\"TEM_OVER_30\",\"RAIN\",\"GARBAGE\"],loc='upper left')\n",
    "    plt.xlabel('MOMTH')\n",
    "    plt.ylabel('RAIN AND TEM_OVER_30 DAYS')\n",
    "    a+=1\n",
    "    # plt.savefig('D:\\\\python_practice\\\\匯出的圖片.png')"
   ]
  },
  {
   "cell_type": "code",
   "execution_count": null,
   "metadata": {},
   "outputs": [],
   "source": [
    "df9_grouped = df9.groupby([\"縣市\",\"月份\"]).sum()"
   ]
  },
  {
   "cell_type": "code",
   "execution_count": null,
   "metadata": {},
   "outputs": [],
   "source": [
    "gdf3 = pd.read_excel(\"./g_sumary.xlsx\",index_col=\"月份\")"
   ]
  },
  {
   "cell_type": "code",
   "execution_count": null,
   "metadata": {},
   "outputs": [],
   "source": [
    "gdf3_minmax = min_max_scaler.fit_transform(gdf3)\n",
    "gdf4 = pd.DataFrame(gdf3_minmax,columns = gdf3.columns,index = gdf3.index )"
   ]
  },
  {
   "cell_type": "code",
   "execution_count": null,
   "metadata": {},
   "outputs": [],
   "source": [
    "for i in gdf4.columns:\n",
    "    for j in gdf4.index:\n",
    "        df9_grouped['garbage'][i][j] = gdf4.loc[j,i]"
   ]
  },
  {
   "cell_type": "code",
   "execution_count": null,
   "metadata": {},
   "outputs": [],
   "source": [
    "df9_grouped.to_csv(\"./city_without_tp.csv\",encoding=\"utf-8-sig\")"
   ]
  },
  {
   "cell_type": "code",
   "execution_count": null,
   "metadata": {},
   "outputs": [],
   "source": [
    "df_final = pd.concat([df8_grouped, df9_grouped])"
   ]
  },
  {
   "cell_type": "code",
   "execution_count": null,
   "metadata": {},
   "outputs": [],
   "source": [
    "df_final.to_csv(\"./rain_garbage_final.csv\",encoding=\"utf-8-sig\")"
   ]
  },
  {
   "cell_type": "code",
   "execution_count": null,
   "metadata": {},
   "outputs": [],
   "source": []
  }
 ]
}