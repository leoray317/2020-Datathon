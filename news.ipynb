{
 "cells": [
  {
   "cell_type": "code",
   "execution_count": 1,
   "metadata": {},
   "outputs": [],
   "source": [
    "import json\n",
    "import requests\n",
    "import random\n",
    "import pandas as pd\n",
    "from bs4 import BeautifulSoup\n",
    "import numpy as np\n",
    "import datetime\n",
    "import time"
   ]
  },
  {
   "cell_type": "code",
   "execution_count": 12,
   "metadata": {
    "tags": []
   },
   "outputs": [
    {
     "output_type": "stream",
     "name": "stdout",
     "text": "channel   media      title author     datetime_publish  \\\n0    news  台灣光華雜誌     來台灣玩吧！    曾蘭淑  2020-03-01 00:00:00   \n1    news  台灣光華雜誌  拼湊台灣開墾的記憶    謝宜婷  2020-03-01 00:00:00   \n2    news  台灣光華雜誌     大院子的春天    李珊瑋  2020-03-01 00:00:00   \n3    news  台灣光華雜誌     如家般的款待    鄧慧純  2020-03-01 00:00:00   \n4    news  台灣光華雜誌      島內好滋味    鄧慧純  2020-03-01 00:00:00   \n\n                                                 url  \n0  https://www.taiwan-panorama.com/Articles/Detai...  \n1  https://www.taiwan-panorama.com/Articles/Detai...  \n2  https://www.taiwan-panorama.com/Articles/Detai...  \n3  https://www.taiwan-panorama.com/Articles/Detai...  \n4  https://www.taiwan-panorama.com/Articles/Detai...  \n"
    }
   ],
   "source": [
    "df = pd.read_json('data/news_json/網路輿情發文來源資料集_2020年03月.json')\n",
    "#df.to_csv('data/news_sampleData.csv', mode='a',index=0, header=0,encoding='utf-8-sig')\n",
    "print(df.head(5))"
   ]
  },
  {
   "cell_type": "code",
   "execution_count": 8,
   "metadata": {
    "tags": []
   },
   "outputs": [
    {
     "output_type": "stream",
     "name": "stdout",
     "text": "<class 'pandas.core.frame.DataFrame'>\nRangeIndex: 1028534 entries, 0 to 1028533\nData columns (total 6 columns):\n #   Column            Non-Null Count    Dtype \n---  ------            --------------    ----- \n 0   channel           1028534 non-null  object\n 1   media             1028534 non-null  object\n 2   title             1028534 non-null  object\n 3   author            1028534 non-null  object\n 4   datetime_publish  1028534 non-null  object\n 5   url               1028534 non-null  object\ndtypes: object(6)\nmemory usage: 47.1+ MB\n"
    }
   ],
   "source": [
    "df.info()"
   ]
  },
  {
   "cell_type": "code",
   "execution_count": 9,
   "metadata": {},
   "outputs": [
    {
     "output_type": "execute_result",
     "data": {
      "text/plain": "media\nGossiping       71726\nLINE TODAY      53275\n奇摩新聞            50602\n新浪新聞            47770\n聯合新聞網           26989\nMSN             21901\n自由時報電子報         21741\n中國時報電子報         21229\nPChome新聞        20565\n三立新聞網           19150\n經濟日報            18242\nHatePolitics    14547\nMarginalman     14359\nHiNet新聞         14210\nETtoday東森新聞雲    13117\nC_Chat          11752\n工商時報            10946\nGamesale        10272\n感情              10183\n中央社即時新聞         10092\ndtype: int64"
     },
     "metadata": {},
     "execution_count": 9
    }
   ],
   "source": [
    "df_g = df.groupby('media')\n",
    "df_g.size().nlargest(20)  "
   ]
  },
  {
   "cell_type": "code",
   "execution_count": 10,
   "metadata": {},
   "outputs": [],
   "source": [
    "df_f = df.sort_values('media', ascending = False, inplace=True)\n",
    "df_f"
   ]
  },
  {
   "cell_type": "code",
   "execution_count": null,
   "metadata": {},
   "outputs": [],
   "source": []
  }
 ],
 "metadata": {
  "kernelspec": {
   "display_name": "Python 3",
   "language": "python",
   "name": "python3"
  },
  "language_info": {
   "codemirror_mode": {
    "name": "ipython",
    "version": 3
   },
   "file_extension": ".py",
   "mimetype": "text/x-python",
   "name": "python",
   "nbconvert_exporter": "python",
   "pygments_lexer": "ipython3",
   "version": "3.7.4-final"
  }
 },
 "nbformat": 4,
 "nbformat_minor": 2
}